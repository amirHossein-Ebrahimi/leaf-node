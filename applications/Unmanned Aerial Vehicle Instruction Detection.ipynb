{
 "metadata": {
  "language_info": {
   "codemirror_mode": {
    "name": "ipython",
    "version": 3
   },
   "file_extension": ".py",
   "mimetype": "text/x-python",
   "name": "python",
   "nbconvert_exporter": "python",
   "pygments_lexer": "ipython3",
   "version": "3.8.3-final"
  },
  "orig_nbformat": 2,
  "kernelspec": {
   "name": "python3",
   "display_name": "Python 3",
   "language": "python"
  }
 },
 "nbformat": 4,
 "nbformat_minor": 2,
 "cells": [
  {
   "source": [
    "**The dataset** is collected from UCI Machine Learning Repository through the following [link](https://archive.ics.uci.edu/ml/datasets/Unmanned+Aerial+Vehicle+%28UAV%29+Intrusion+Detection)\n",
    "\n",
    "This application is working in first dataset (Bidirectional-flow/Parrot Bebop1), combined first dataset can be [downloaded](http://mason.gmu.edu/~lzhao9/materials/data/UAV/data/pub_dataset1.mat) from Liang Zhao homepage.Bidirectional-flow mode will involve 9 features × 2 sources × 3 direction flow = 54 features for more info visit this [link](http://mason.gmu.edu/~lzhao9/materials/data/UAV/)\n",
    "\n",
    "extract data with its default name `pub_dataset1.mat` in `__data__` directory"
   ],
   "cell_type": "markdown",
   "metadata": {}
  },
  {
   "cell_type": "code",
   "execution_count": 14,
   "metadata": {},
   "outputs": [],
   "source": [
    "import numpy as np\n",
    "import pandas as pd\n",
    "import h5py\n",
    "\n",
    "import matplotlib.pyplot as plt\n",
    "import seaborn as sns\n",
    "\n",
    "from pprint import pprint"
   ]
  },
  {
   "cell_type": "code",
   "execution_count": 36,
   "metadata": {},
   "outputs": [
    {
     "output_type": "execute_result",
     "data": {
      "text/plain": [
       "dict_keys(['D', 'H', 'data_te', 'data_tr'])"
      ]
     },
     "metadata": {},
     "execution_count": 36
    }
   ],
   "source": [
    "# use HDF reader for matlab v7.3 files\n",
    "data = { k:np.array(v).T for k, v in h5py.File('./__data__/pub_dataset1.mat').items()}\n",
    "data.keys()"
   ]
  },
  {
   "source": [
    "$n$ is the number of training samples   \n",
    "$k$ is the number of feature   \n",
    "$n^{\\prime}$ is the number of testing samples    \n",
    "$k^{\\prime}$ is the number of feature computational components and k is the numbe of features.  \n",
    "The last column of `data_te` and `data_tr` is the label: `1 means UAV, 0 otherwise`\n",
    "\n",
    "--- \n",
    "$\\text{data_tr} \\in R^{n×(k+1)}$   \n",
    "$\\text{data_te} \\in R^{n^{\\prime}×(k+1)}$   \n",
    "$D \\in R^{k×1}$. The generation runtime for each feature.  \n",
    "$H \\in R^{k^{\\prime}×k}$. The incident matrix of the feature computational hypergraph (see the paper for details). \n"
   ],
   "cell_type": "markdown",
   "metadata": {}
  },
  {
   "cell_type": "code",
   "execution_count": 55,
   "metadata": {},
   "outputs": [],
   "source": [
    "def reset_random_seed(seed=1917):\n",
    "    np.random.seed(seed)"
   ]
  },
  {
   "cell_type": "code",
   "execution_count": 48,
   "metadata": {},
   "outputs": [],
   "source": [
    "X = data['data_tr'][:, :-1]\n",
    "y = data['data_tr'][:, -1]\n",
    "\n",
    "X_test = data['data_te'][:, :-1]\n",
    "y_test = data['data_te'][:, -1]"
   ]
  },
  {
   "source": [
    "## Accuracy Optimization\n",
    "\n",
    "- MLP\n",
    "- AutoEncoder\n",
    "- Proposed Method"
   ],
   "cell_type": "markdown",
   "metadata": {}
  },
  {
   "cell_type": "code",
   "execution_count": 68,
   "metadata": {},
   "outputs": [],
   "source": [
    "from sklearn.neural_network import MLPClassifier"
   ]
  },
  {
   "cell_type": "code",
   "execution_count": 65,
   "metadata": {},
   "outputs": [
    {
     "output_type": "execute_result",
     "data": {
      "text/plain": [
       "0.9931930342050032"
      ]
     },
     "metadata": {},
     "execution_count": 65
    }
   ],
   "source": [
    "reset_random_seed()\n",
    "model = MLPClassifier()\n",
    "model.fit(X, y)\n",
    "model.score(X_test, y_test)"
   ]
  },
  {
   "source": [
    "Auto Encoder\n",
    "- see the slides \n",
    "- see this link https://i-systems.github.io/teaching/ML/iNotes/15_Autoencoder.html"
   ],
   "cell_type": "markdown",
   "metadata": {}
  },
  {
   "source": [
    "proposed method will be the follwoing  \n",
    "- classify   \n",
    "- print wrong data   \n",
    "- train model on wrong data such as svm  \n",
    "- use svm for that classified datas\n",
    "- o.w use mlp normal model"
   ],
   "cell_type": "markdown",
   "metadata": {}
  },
  {
   "source": [
    "## Runtime Optimization\n",
    "\n",
    "- TODO: Optimize run Time"
   ],
   "cell_type": "markdown",
   "metadata": {}
  }
 ]
}