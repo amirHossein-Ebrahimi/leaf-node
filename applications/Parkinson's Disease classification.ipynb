{
 "metadata": {
  "language_info": {
   "codemirror_mode": {
    "name": "ipython",
    "version": 3
   },
   "file_extension": ".py",
   "mimetype": "text/x-python",
   "name": "python",
   "nbconvert_exporter": "python",
   "pygments_lexer": "ipython3",
   "version": "3.8.3-final"
  },
  "orig_nbformat": 2,
  "kernelspec": {
   "name": "python3",
   "display_name": "Python 3"
  }
 },
 "nbformat": 4,
 "nbformat_minor": 2,
 "cells": [
  {
   "source": [
    "**The dataset** is collected from UCI Machine Learning Repository through the following [link](https://archive.ics.uci.edu/ml/datasets/Parkinson%27s+Disease+Classification#)\n",
    "\n",
    "extract data with its default name `pd_speech_features.csv` in `__data__` directory"
   ],
   "cell_type": "markdown",
   "metadata": {}
  },
  {
   "cell_type": "code",
   "execution_count": 40,
   "metadata": {},
   "outputs": [],
   "source": [
    "import numpy as np\n",
    "import pandas as pd\n",
    "\n",
    "from pprint import pprint"
   ]
  },
  {
   "cell_type": "code",
   "execution_count": 41,
   "metadata": {},
   "outputs": [
    {
     "output_type": "execute_result",
     "data": {
      "text/plain": [
       "   id  gender      PPE      DFA     RPDE  numPulses  numPeriodsPulses  \\\n",
       "0   0       1  0.85247  0.71826  0.57227        240               239   \n",
       "1   0       1  0.76686  0.69481  0.53966        234               233   \n",
       "2   0       1  0.85083  0.67604  0.58982        232               231   \n",
       "3   1       0  0.41121  0.79672  0.59257        178               177   \n",
       "4   1       0  0.32790  0.79782  0.53028        236               235   \n",
       "\n",
       "   meanPeriodPulses  stdDevPeriodPulses  locPctJitter  ...  \\\n",
       "0          0.008064            0.000087       0.00218  ...   \n",
       "1          0.008258            0.000073       0.00195  ...   \n",
       "2          0.008340            0.000060       0.00176  ...   \n",
       "3          0.010858            0.000183       0.00419  ...   \n",
       "4          0.008162            0.002669       0.00535  ...   \n",
       "\n",
       "   tqwt_kurtosisValue_dec_28  tqwt_kurtosisValue_dec_29  \\\n",
       "0                     1.5620                     2.6445   \n",
       "1                     1.5589                     3.6107   \n",
       "2                     1.5643                     2.3308   \n",
       "3                     3.7805                     3.5664   \n",
       "4                     6.1727                     5.8416   \n",
       "\n",
       "   tqwt_kurtosisValue_dec_30  tqwt_kurtosisValue_dec_31  \\\n",
       "0                     3.8686                     4.2105   \n",
       "1                    23.5155                    14.1962   \n",
       "2                     9.4959                    10.7458   \n",
       "3                     5.2558                    14.0403   \n",
       "4                     6.0805                     5.7621   \n",
       "\n",
       "   tqwt_kurtosisValue_dec_32  tqwt_kurtosisValue_dec_33  \\\n",
       "0                     5.1221                     4.4625   \n",
       "1                    11.0261                     9.5082   \n",
       "2                    11.0177                     4.8066   \n",
       "3                     4.2235                     4.6857   \n",
       "4                     7.7817                    11.6891   \n",
       "\n",
       "   tqwt_kurtosisValue_dec_34  tqwt_kurtosisValue_dec_35  \\\n",
       "0                     2.6202                     3.0004   \n",
       "1                     6.5245                     6.3431   \n",
       "2                     2.9199                     3.1495   \n",
       "3                     4.8460                     6.2650   \n",
       "4                     8.2103                     5.0559   \n",
       "\n",
       "   tqwt_kurtosisValue_dec_36  class  \n",
       "0                    18.9405      1  \n",
       "1                    45.1780      1  \n",
       "2                     4.7666      1  \n",
       "3                     4.0603      1  \n",
       "4                     6.1164      1  \n",
       "\n",
       "[5 rows x 755 columns]"
      ],
      "text/html": "<div>\n<style scoped>\n    .dataframe tbody tr th:only-of-type {\n        vertical-align: middle;\n    }\n\n    .dataframe tbody tr th {\n        vertical-align: top;\n    }\n\n    .dataframe thead th {\n        text-align: right;\n    }\n</style>\n<table border=\"1\" class=\"dataframe\">\n  <thead>\n    <tr style=\"text-align: right;\">\n      <th></th>\n      <th>id</th>\n      <th>gender</th>\n      <th>PPE</th>\n      <th>DFA</th>\n      <th>RPDE</th>\n      <th>numPulses</th>\n      <th>numPeriodsPulses</th>\n      <th>meanPeriodPulses</th>\n      <th>stdDevPeriodPulses</th>\n      <th>locPctJitter</th>\n      <th>...</th>\n      <th>tqwt_kurtosisValue_dec_28</th>\n      <th>tqwt_kurtosisValue_dec_29</th>\n      <th>tqwt_kurtosisValue_dec_30</th>\n      <th>tqwt_kurtosisValue_dec_31</th>\n      <th>tqwt_kurtosisValue_dec_32</th>\n      <th>tqwt_kurtosisValue_dec_33</th>\n      <th>tqwt_kurtosisValue_dec_34</th>\n      <th>tqwt_kurtosisValue_dec_35</th>\n      <th>tqwt_kurtosisValue_dec_36</th>\n      <th>class</th>\n    </tr>\n  </thead>\n  <tbody>\n    <tr>\n      <th>0</th>\n      <td>0</td>\n      <td>1</td>\n      <td>0.85247</td>\n      <td>0.71826</td>\n      <td>0.57227</td>\n      <td>240</td>\n      <td>239</td>\n      <td>0.008064</td>\n      <td>0.000087</td>\n      <td>0.00218</td>\n      <td>...</td>\n      <td>1.5620</td>\n      <td>2.6445</td>\n      <td>3.8686</td>\n      <td>4.2105</td>\n      <td>5.1221</td>\n      <td>4.4625</td>\n      <td>2.6202</td>\n      <td>3.0004</td>\n      <td>18.9405</td>\n      <td>1</td>\n    </tr>\n    <tr>\n      <th>1</th>\n      <td>0</td>\n      <td>1</td>\n      <td>0.76686</td>\n      <td>0.69481</td>\n      <td>0.53966</td>\n      <td>234</td>\n      <td>233</td>\n      <td>0.008258</td>\n      <td>0.000073</td>\n      <td>0.00195</td>\n      <td>...</td>\n      <td>1.5589</td>\n      <td>3.6107</td>\n      <td>23.5155</td>\n      <td>14.1962</td>\n      <td>11.0261</td>\n      <td>9.5082</td>\n      <td>6.5245</td>\n      <td>6.3431</td>\n      <td>45.1780</td>\n      <td>1</td>\n    </tr>\n    <tr>\n      <th>2</th>\n      <td>0</td>\n      <td>1</td>\n      <td>0.85083</td>\n      <td>0.67604</td>\n      <td>0.58982</td>\n      <td>232</td>\n      <td>231</td>\n      <td>0.008340</td>\n      <td>0.000060</td>\n      <td>0.00176</td>\n      <td>...</td>\n      <td>1.5643</td>\n      <td>2.3308</td>\n      <td>9.4959</td>\n      <td>10.7458</td>\n      <td>11.0177</td>\n      <td>4.8066</td>\n      <td>2.9199</td>\n      <td>3.1495</td>\n      <td>4.7666</td>\n      <td>1</td>\n    </tr>\n    <tr>\n      <th>3</th>\n      <td>1</td>\n      <td>0</td>\n      <td>0.41121</td>\n      <td>0.79672</td>\n      <td>0.59257</td>\n      <td>178</td>\n      <td>177</td>\n      <td>0.010858</td>\n      <td>0.000183</td>\n      <td>0.00419</td>\n      <td>...</td>\n      <td>3.7805</td>\n      <td>3.5664</td>\n      <td>5.2558</td>\n      <td>14.0403</td>\n      <td>4.2235</td>\n      <td>4.6857</td>\n      <td>4.8460</td>\n      <td>6.2650</td>\n      <td>4.0603</td>\n      <td>1</td>\n    </tr>\n    <tr>\n      <th>4</th>\n      <td>1</td>\n      <td>0</td>\n      <td>0.32790</td>\n      <td>0.79782</td>\n      <td>0.53028</td>\n      <td>236</td>\n      <td>235</td>\n      <td>0.008162</td>\n      <td>0.002669</td>\n      <td>0.00535</td>\n      <td>...</td>\n      <td>6.1727</td>\n      <td>5.8416</td>\n      <td>6.0805</td>\n      <td>5.7621</td>\n      <td>7.7817</td>\n      <td>11.6891</td>\n      <td>8.2103</td>\n      <td>5.0559</td>\n      <td>6.1164</td>\n      <td>1</td>\n    </tr>\n  </tbody>\n</table>\n<p>5 rows × 755 columns</p>\n</div>"
     },
     "metadata": {},
     "execution_count": 41
    }
   ],
   "source": [
    "df = pd.read_csv('./__data__/pd_speech_features.csv')\n",
    "df.head()"
   ]
  },
  {
   "source": [
    "### Preprocessing Data"
   ],
   "cell_type": "markdown",
   "metadata": {}
  },
  {
   "cell_type": "code",
   "execution_count": 42,
   "metadata": {},
   "outputs": [],
   "source": [
    "X = df.copy()\n",
    "y = X.pop('class')\n",
    "# to numpy\n",
    "X = X.to_numpy()\n",
    "y = y.values"
   ]
  },
  {
   "source": [
    "### Metrics"
   ],
   "cell_type": "markdown",
   "metadata": {}
  },
  {
   "cell_type": "code",
   "execution_count": 43,
   "metadata": {},
   "outputs": [],
   "source": [
    "from sklearn.model_selection import KFold\n",
    "from sklearn.metrics import accuracy_score, precision_score, recall_score, f1_score\n",
    "\n",
    "kf = KFold(n_splits=5)\n",
    "\n",
    "def get_metrics(model, X, y):\n",
    "    _metrics = {\"accuracy\": 0, \"precision\": 0, \"recall\": 0, \"fMeasure\": 0}\n",
    "\n",
    "    for train_index, test_index in kf.split(X):\n",
    "        X_train, X_test = X[train_index], X[test_index]\n",
    "        y_train, y_test = y[train_index], y[test_index]\n",
    "\n",
    "        model.fit(X_train, y_train)\n",
    "        y_pred = model.predict(X_test)\n",
    "        y_true = y_test\n",
    "\n",
    "        _metrics[\"accuracy\"] += accuracy_score(y_true, y_pred)\n",
    "        _metrics[\"precision\"] += precision_score(y_true, y_pred)\n",
    "        _metrics[\"recall\"] += recall_score(y_true, y_pred)\n",
    "        _metrics[\"fMeasure\"] += f1_score(y_true, y_pred)\n",
    "\n",
    "    # average\n",
    "    n_splits = kf.get_n_splits(X)\n",
    "    for metric in _metrics:\n",
    "        _metrics[metric] /= n_splits\n",
    "    \n",
    "    _metrics['_meta'] = {\n",
    "        \"nSplits\": n_splits,\n",
    "        \"modelType\": type(model).__name__,\n",
    "        \"hyperParameters\": model.get_params()\n",
    "    }\n",
    "\n",
    "    return _metrics\n"
   ]
  },
  {
   "source": [
    "### Decision Tree"
   ],
   "cell_type": "markdown",
   "metadata": {}
  },
  {
   "cell_type": "code",
   "execution_count": 44,
   "metadata": {},
   "outputs": [
    {
     "output_type": "stream",
     "name": "stdout",
     "text": [
      "{'_meta': {'hyperParameters': {'ccp_alpha': 0.0,\n                               'class_weight': None,\n                               'criterion': 'gini',\n                               'max_depth': None,\n                               'max_features': None,\n                               'max_leaf_nodes': None,\n                               'min_impurity_decrease': 0.0,\n                               'min_impurity_split': None,\n                               'min_samples_leaf': 1,\n                               'min_samples_split': 2,\n                               'min_weight_fraction_leaf': 0.0,\n                               'presort': 'deprecated',\n                               'random_state': None,\n                               'splitter': 'best'},\n           'modelType': 'DecisionTreeClassifier',\n           'nSplits': 5},\n 'accuracy': 0.7209219240153363,\n 'fMeasure': 0.8150160266070505,\n 'precision': 0.8083279519100903,\n 'recall': 0.8280514201355794}\n"
     ]
    }
   ],
   "source": [
    "from sklearn.tree import DecisionTreeClassifier\n",
    "model = DecisionTreeClassifier()\n",
    "metrics = get_metrics(model, X, y)\n",
    "pprint(metrics)"
   ]
  },
  {
   "cell_type": "code",
   "execution_count": null,
   "metadata": {},
   "outputs": [],
   "source": []
  }
 ]
}