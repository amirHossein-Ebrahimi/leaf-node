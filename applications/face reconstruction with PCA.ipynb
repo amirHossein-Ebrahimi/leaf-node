{
 "metadata": {
  "language_info": {
   "codemirror_mode": {
    "name": "ipython",
    "version": 3
   },
   "file_extension": ".py",
   "mimetype": "text/x-python",
   "name": "python",
   "nbconvert_exporter": "python",
   "pygments_lexer": "ipython3",
   "version": 3
  },
  "orig_nbformat": 2
 },
 "nbformat": 4,
 "nbformat_minor": 2,
 "cells": [
  {
   "source": [
    "Send an email if you want raw datas  \n",
    "extract data with its default name `faces.mat` in `__data__` directory"
   ],
   "cell_type": "markdown",
   "metadata": {}
  },
  {
   "cell_type": "code",
   "execution_count": null,
   "metadata": {},
   "outputs": [],
   "source": [
    "import numpy as np"
   ]
  },
  {
   "cell_type": "code",
   "execution_count": null,
   "metadata": {},
   "outputs": [],
   "source": [
    " class PCA():\n",
    "    def __init__(self, n_components):\n",
    "        self._n_components = n_components\n",
    "    \n",
    "    def fit(self, X):\n",
    "        mean_removed_X = X - X.mean(axis=0)\n",
    "        covariance_matrix = np.cov(mean_removed_X , rowvar=False)\n",
    "        eigenvalues, eigenvectors = np.linalg.eig(covariance_matrix)\n",
    "\n",
    "        # Sort eigenvalues and corresponding eigenvectors in descending order\n",
    "        idx = eigenvalues.argsort()[::-1]\n",
    "        eigenvalues = eigenvalues[idx]\n",
    "        eigenvectors = eigenvectors[:, idx]\n",
    "\n",
    "        # Select the first n_components, eigen values[0] is for vectors[:, 0]\n",
    "        eigenvalues = eigenvalues[:self._n_components]\n",
    "        eigenvectors = eigenvectors[:, :self._n_components]\n",
    "\n",
    "        self._components = eigenvectors\n",
    "        self._singular_values = eigenvalues\n",
    "\n",
    "    def transform(self, X):\n",
    "        # Project the data onto principal components\n",
    "        return X @ self._components"
   ]
  }
 ]
}