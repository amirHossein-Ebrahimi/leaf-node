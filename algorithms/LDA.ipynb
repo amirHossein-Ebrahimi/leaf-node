{
 "metadata": {
  "language_info": {
   "codemirror_mode": {
    "name": "ipython",
    "version": 3
   },
   "file_extension": ".py",
   "mimetype": "text/x-python",
   "name": "python",
   "nbconvert_exporter": "python",
   "pygments_lexer": "ipython3",
   "version": "3.8.3-final"
  },
  "orig_nbformat": 2,
  "kernelspec": {
   "name": "python3",
   "display_name": "Python 3",
   "language": "python"
  }
 },
 "nbformat": 4,
 "nbformat_minor": 2,
 "cells": [
  {
   "source": [
    "## LDA\n",
    "The Linear Discriminant Analysis (Fisher's linear discriminant) for 2-class classification"
   ],
   "cell_type": "markdown",
   "metadata": {}
  },
  {
   "cell_type": "code",
   "execution_count": null,
   "metadata": {},
   "outputs": [],
   "source": [
    "import numpy as np"
   ]
  },
  {
   "cell_type": "code",
   "execution_count": null,
   "metadata": {},
   "outputs": [],
   "source": [
    "class LDA:\n",
    "    def fit(self, X, y):\n",
    "        X0 = X[y==0]\n",
    "        X1 = X[y==1]\n",
    "\n",
    "        mu0 = X0.mean(axis=0)\n",
    "        mu1 = X1.mean(axis=0)\n",
    "        \n",
    "        # Scatter matrices\n",
    "        S0 = (X0 - mu0).T.dot(X0 - mu0)\n",
    "        S1 = (X1 - mu1).T.dot(X1 - mu1)\n",
    "        SW = S0 + S1\n",
    "\n",
    "        # (Moore-Penrose) pseudo-inverse of a matrix (w = mean_diff/SW)\n",
    "        self._w = np.linalg.pinv(SW).dot(mu0 - mu1)\n",
    "\n",
    "    def fir_transform(self, X, y):\n",
    "        self.fit(X, y)\n",
    "        # Project data onto the vector (W)\n",
    "        return X.dot(self._w)\n",
    "\n",
    "    def predict(self, X):\n",
    "        return np.where(X.dot(self._w) < 0, 1, 0)"
   ]
  }
 ]
}