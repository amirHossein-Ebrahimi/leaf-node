{
 "metadata": {
  "language_info": {
   "codemirror_mode": {
    "name": "ipython",
    "version": 3
   },
   "file_extension": ".py",
   "mimetype": "text/x-python",
   "name": "python",
   "nbconvert_exporter": "python",
   "pygments_lexer": "ipython3",
   "version": "3.8.3-final"
  },
  "orig_nbformat": 2,
  "kernelspec": {
   "name": "pycharm-8186fd7a",
   "display_name": "PyCharm (leaf-node)",
   "language": "python"
  }
 },
 "nbformat": 4,
 "nbformat_minor": 2,
 "cells": [
  {
   "cell_type": "code",
   "execution_count": null,
   "metadata": {},
   "outputs": [],
   "source": [
    "import numpy as np\n",
    "from sklearn.metrics import accuracy_score"
   ]
  },
  {
   "cell_type": "code",
   "execution_count": null,
   "metadata": {
    "pycharm": {
     "name": "#%%\n"
    }
   },
   "outputs": [],
   "source": [
    "class LogisticRegression:\n",
    "    def __init__(self, learning_rate=.1, n_iterations=1000):\n",
    "        self.learning_rate = learning_rate\n",
    "        self.n_iterations = n_iterations\n",
    "        self.w_ = None\n",
    "\n",
    "    def fit(self, X, y):\n",
    "        n_features = X.shape[1]\n",
    "        bound = 1 / np.sqrt(n_features) # W = [-1/sqrt(N), 1/sqrt(N)]\n",
    "        self.w_ = np.random.uniform(-bound, bound, (n_features,))\n",
    "        for i in range(self.n_iterations):\n",
    "            y_pred = LogisticRegression.sigmoid(X @ self.w_)\n",
    "            self.w_ -= self.learning_rate * (y_pred - y) @ X\n",
    "\n",
    "    def predict(self, X):\n",
    "        return np.round(LogisticRegression.sigmoid(X @ self.w_)).astype(int)\n",
    "  \n",
    "    def score(self, X, y):\n",
    "        return accuracy_score(y, self.predict(X))\n",
    "\n",
    "    @staticmethod\n",
    "    def sigmoid( z):\n",
    "        return 1 / (1 + np.exp(-z))\n",
    "     \n",
    "    def get_params(self, deep):\n",
    "        return { 'learning_rate':self.learning_rate, 'n_iterations': self.n_iterations }"
   ]
  }
 ]
}