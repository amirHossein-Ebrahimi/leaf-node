{
 "cells": [
  {
   "cell_type": "code",
   "execution_count": null,
   "metadata": {
    "collapsed": true
   },
   "outputs": [],
   "source": [
    "import numpy as np"
   ]
  },
  {
   "cell_type": "code",
   "execution_count": null,
   "metadata": {},
   "outputs": [],
   "source": [
    "class KMeans:\n",
    "    def __init__(self, k=2, centeroids_initializer='random', max_iter=100):\n",
    "        self.k = k\n",
    "        if (centeroids_initializer == 'random'):\n",
    "            self.initialize_centroids = self.random_centroids\n",
    "        elif (centeroids_initializer == 'k++'):\n",
    "            self.initialize_centroids = self.kpp_centroids\n",
    "        self.max_iter = max_iter\n",
    "        self.centroids = None\n",
    "\n",
    "    def fit(self, X):\n",
    "        self.initialize_centroids(X)\n",
    "        for _ in range(self.max_iter):\n",
    "            # asign data to culsters\n",
    "            clusters = self._create_clusters(X)\n",
    "            # early stop\n",
    "            prev_centroids = self.centroids.copy()\n",
    "            # update centroids\n",
    "            self.centroids = self._update_centroids(X, clusters)\n",
    "\n",
    "            if not (self.centroids - prev_centroids).any():\n",
    "                break\n",
    "        \n",
    "    def predict(self, X):\n",
    "        return self._create_clusters(X)\n",
    "\n",
    "    def kpp_centroids(self, X):\n",
    "        n_samples = np.shape(X)[0]\n",
    "        self.centroids = [X[np.random.choice(n_samples, 1)]]\n",
    "        for _ in range(1, self.k):\n",
    "            D = np.ones((n_samples, 1)) * np.inf\n",
    "            for prev_cluster_index, prev_clusters in enumerate(self.centroids):\n",
    "                distance = np.linalg.norm(X - prev_clusters, axis=1)\n",
    "                distance = np.atleast_2d(distance).T\n",
    "                D[distance < D] = distance[distance < D]\n",
    "\n",
    "            D = np.array(D)\n",
    "            D = D ** 2\n",
    "            p = D / np.sum(D) \n",
    "            self.centroids.append(X[np.random.choice(n_samples, 1, p=p.T[0])])\n",
    "        self.centroids = np.array(self.centroids).reshape(-1, 2)\n",
    "    \n",
    "    def _create_clusters(self, X):\n",
    "        clusters = [[] for _ in range(self.k)]\n",
    "        for index, x in enumerate(X):\n",
    "            distance = np.sqrt(np.sum((self.centroids - x) ** 2, axis=1))   \n",
    "            closest = np.argmin(distance) \n",
    "            clusters[closest].append(index)\n",
    "        return clusters\n",
    "\n",
    "    def _update_centroids(self, X, clusters):\n",
    "        n_features = np.shape(X)[1]\n",
    "        centroids = np.zeros((self.k, n_features))\n",
    "        for index, cluster in enumerate(clusters):\n",
    "            centroids[index] = np.mean(X[cluster], axis=0)\n",
    "        return centroids\n",
    "\n",
    "    def random_centroids(self, X):\n",
    "        n_samples = np.shape(X)[0]\n",
    "        self.centroids = X[np.random.choice(n_samples, self.k, replace=False)]"
   ]
  }
 ],
 "metadata": {
  "kernelspec": {
   "display_name": "Python 3",
   "language": "python",
   "name": "python3"
  },
  "language_info": {
   "codemirror_mode": {
    "name": "ipython",
    "version": 2
   },
   "file_extension": ".py",
   "mimetype": "text/x-python",
   "name": "python",
   "nbconvert_exporter": "python",
   "pygments_lexer": "ipython2",
   "version": "3.8.3-final"
  }
 },
 "nbformat": 4,
 "nbformat_minor": 0
}