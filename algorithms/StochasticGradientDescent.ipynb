{
 "metadata": {
  "language_info": {
   "codemirror_mode": {
    "name": "ipython",
    "version": 3
   },
   "file_extension": ".py",
   "mimetype": "text/x-python",
   "name": "python",
   "nbconvert_exporter": "python",
   "pygments_lexer": "ipython3",
   "version": 3
  },
  "orig_nbformat": 2
 },
 "nbformat": 4,
 "nbformat_minor": 2,
 "cells": [
  {
   "cell_type": "code",
   "execution_count": null,
   "metadata": {},
   "outputs": [],
   "source": [
    "import numpy as np\n",
    "from sklearn.preprocessing import PolynomialFeatures"
   ]
  },
  {
   "cell_type": "code",
   "execution_count": null,
   "metadata": {},
   "outputs": [],
   "source": [
    "class StochasticGradientDescent:\n",
    "    def __init__(self, degree=1, learning_rate=1e-5, minibatch_split=1, max_iter=100):\n",
    "        self._transformer = PolynomialFeatures(degree)\n",
    "        self._lr = learning_rate\n",
    "        self._minibatch_split = minibatch_split\n",
    "\n",
    "    def fit(self, X, y):\n",
    "        X = self._transformer.fit_transform(X)\n",
    "        self._W = np.zeros((1, X.shape[1]))\n",
    "\n",
    "        data = np.concatenate((X, y), axis=1)\n",
    "        for epoch in range(self.max_iter):\n",
    "            for batch in np.array_split(data, self._minibatch_split):\n",
    "                X_batch, y_batch = batch[:, :-1], batch[:, -1:]\n",
    "                updates = (y_batch - np.sum(self._W*X_batch, axis=1, keepdims=True)) * X_batch\n",
    "                self._W += self._lr * np.sum(updates, axis=0)\n",
    "\n",
    "    def predict(self, X):\n",
    "        X = self._transformer.fit_transform(X)\n",
    "        return np.sum(self._W * X, axis=1, keepdims=True)\n",
    "\n",
    "    def get_polynomial(self):\n",
    "        w_feature =  zip(self._W.flatten(),self._transformer.get_feature_names()) \n",
    "        return \" + \".join([f\"{w:.3f}*{fn}\" for (w, fn) in w_feature if abs(w) > 1e-5])"
   ]
  },
  {
   "source": [
    "### PolynomialFeatures (sklearn.preprocessing)\n",
    "Generate a new feature matrix consisting of all polynomial combinations of the features with degree less than or equal to the specified degree.  \n",
    "<sub>For example, if an input sample is two-dimensional and of the form $[a, b]$, the degree-2 polynomial features are $[1, a, b, a^2, ab, b^2]$.</sub>"
   ],
   "cell_type": "markdown",
   "metadata": {}
  }
 ]
}