{
 "metadata": {
  "language_info": {
   "codemirror_mode": {
    "name": "ipython",
    "version": 3
   },
   "file_extension": ".py",
   "mimetype": "text/x-python",
   "name": "python",
   "nbconvert_exporter": "python",
   "pygments_lexer": "ipython3",
   "version": "3.8.3-final"
  },
  "orig_nbformat": 2,
  "kernelspec": {
   "name": "python3",
   "display_name": "Python 3"
  }
 },
 "nbformat": 4,
 "nbformat_minor": 2,
 "cells": [
  {
   "cell_type": "code",
   "execution_count": null,
   "metadata": {},
   "outputs": [],
   "source": [
    "import numpy as np\n",
    "class Perceptron:\n",
    "    def __init__(self, max_iter=100, lr=1e-4):\n",
    "        self.max_iter = max_iter\n",
    "        self.lr = lr\n",
    "\n",
    "    def fit(self, X, Y):\n",
    "        self._w = np.zeros(X.shape[1])\n",
    "        self._b = 0\n",
    "\n",
    "        for _ in range(self.max_iter):\n",
    "            for (x, y) in zip(X, Y):\n",
    "                update = self.lr * (y - self.predict(x))\n",
    "                self._w += update * x\n",
    "                self._b += update\n",
    "            \n",
    "    def predict(self, X):\n",
    "        return np.heaviside(np.dot(X, self._w) + self._b, 0)"
   ]
  },
  {
   "source": [
    "### The Perceptron Algorithm:\n",
    "\n",
    "**input**: A training set $D$ of $x_i$ each with `n` features & $y_i$ as thier coresponding labels\n",
    "\n",
    "for every input $x_j \\in D$,  $w$ and $bias$ will updat by following formulas\n",
    "$$\n",
    "\\text{pred} := w \\cdot x + bias \\\\\n",
    "w = w + \\eta \\times (y_j - pred) \\times x_j \\\\\n",
    "bias  = bias + \\eta \\times (y_j - pred)\n",
    "$$  \n",
    "\n",
    "**stop**: when maximum iteraction count is reached\n",
    "\n",
    "### Implementation\n",
    "\n",
    "predict is calculated by [`np.heaviside`](https://numpy.org/doc/stable/reference/generated/numpy.heaviside.html) in following format:\n",
    "\n",
    "$$\n",
    "predict(x):=   \n",
    "\\begin{cases}\n",
    "0 & \\sum_i w_i*x_{i} \\le 0\\\\\n",
    "1 & \\text{o.w.}\n",
    "\\end{cases}\n",
    "$$\n",
    "---\n",
    "Tags: **supervised learning** & **classifier** & **linear**\n",
    "\n",
    "\n"
   ],
   "cell_type": "markdown",
   "metadata": {}
  }
 ]
}
