{
 "metadata": {
  "language_info": {
   "codemirror_mode": {
    "name": "ipython",
    "version": 3
   },
   "file_extension": ".py",
   "mimetype": "text/x-python",
   "name": "python",
   "nbconvert_exporter": "python",
   "pygments_lexer": "ipython3",
   "version": "3.8.3-final"
  },
  "orig_nbformat": 2,
  "kernelspec": {
   "name": "pycharm-8186fd7a",
   "language": "python",
   "display_name": "PyCharm (leaf-node)"
  }
 },
 "nbformat": 4,
 "nbformat_minor": 2,
 "cells": [
  {
   "cell_type": "code",
   "execution_count": null,
   "metadata": {},
   "outputs": [],
   "source": [
    "from sklearn.metrics import accuracy_score\n",
    "import numpy as np\n",
    "import math"
   ]
  },
  {
   "cell_type": "code",
   "execution_count": null,
   "metadata": {},
   "outputs": [],
   "source": [
    "class NativeBayes:\n",
    "    def fit(self, X, y):\n",
    "        self.classes = np.unique(y)\n",
    "        self.parameters = []\n",
    "        self.priors = {}\n",
    "\n",
    "        for c in self.classes:\n",
    "            yc = y == c\n",
    "            Xc = X[yc]\n",
    "            self.priors[c] = np.mean(yc)\n",
    "            self.parameters.append([\n",
    "                {\"mean\": col.mean(), \"var\": col.var()} for col in Xc.T\n",
    "            ])\n",
    "\n",
    "    def predict(self, X):\n",
    "        return np.array([self._classify(sample) for sample in X])\n",
    "\n",
    "    def score(self, X, y):\n",
    "        return accuracy_score(y, self.predict(X))\n",
    "\n",
    "    def _classify(self, sample):\n",
    "        eps = 1e-4\n",
    "        posteriors = []\n",
    "        for i, c in enumerate(self.classes):\n",
    "            posterior = self.priors[c]\n",
    "            for x, params in zip(sample, self.parameters[i]):\n",
    "                mean, var = params[\"mean\"], params[\"var\"] \n",
    "                coefficient = 1.0 / math.sqrt(2.0 * math.pi * var + eps)\n",
    "                exponent = math.exp(-(math.pow(x - mean, 2) / (2 * var + eps)))\n",
    "                likelihood = coefficient * exponent\n",
    "                posterior *= likelihood\n",
    "            posteriors.append(posterior)        \n",
    "        return self.classes[np.argmax(posteriors)]\n",
    "\n",
    "    def get_params(self, deep):\n",
    "        return { 'classes': self.classes }"
   ]
  }
 ]
}